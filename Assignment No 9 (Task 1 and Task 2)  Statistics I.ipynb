{
 "cells": [
  {
   "cell_type": "markdown",
   "metadata": {},
   "source": [
    "# Assignment No 9 (Task 1 and Task 2)  Statistics I\n"
   ]
  },
  {
   "cell_type": "markdown",
   "metadata": {},
   "source": [
    "\n",
    "# Task 1"
   ]
  },
  {
   "cell_type": "code",
   "execution_count": 12,
   "metadata": {},
   "outputs": [],
   "source": [
    "# Question No 1\n",
    "#  You survey households in your area to find the average rent they are paying. Find the standard \n",
    "#  deviation from the following data: $1550, $1700, $900, $850, $1000, $950."
   ]
  },
  {
   "cell_type": "code",
   "execution_count": 13,
   "metadata": {},
   "outputs": [],
   "source": [
    "import numpy as np\n",
    "import pandas as pd"
   ]
  },
  {
   "cell_type": "code",
   "execution_count": 14,
   "metadata": {},
   "outputs": [
    {
     "data": {
      "text/plain": [
       "1158.3333333333333"
      ]
     },
     "execution_count": 14,
     "metadata": {},
     "output_type": "execute_result"
    }
   ],
   "source": [
    "# Mean of rent paying\n",
    "rent = [1550,1700,900,850,1000,950]\n",
    "np.mean(rent)"
   ]
  },
  {
   "cell_type": "markdown",
   "metadata": {},
   "source": [
    "Step 1 –  Calculation of Mean – (x1+x2+x3+x4+x5+x6)/(n)\n",
    "(1550+1700+900+850+1000+950) / 6  =1158.33"
   ]
  },
  {
   "cell_type": "raw",
   "metadata": {},
   "source": [
    "Step 2: Calculating the Variance (S2)\n",
    "\t\t \n",
    "X        X-Xm       (X-Xm)2\n",
    "\n",
    "1550\t391.67\t    153402.78\n",
    "1700\t541.67\t    293402.78\n",
    "900\t   -258.33\t    66736.11\n",
    "850\t   -308.33\t    95069.44\n",
    "1000   -158.33\t    25069.44\n",
    "950\t   -208.33\t    43402.78\n",
    "\n",
    "Sum of (X-Xm)2 = 677083.33\n",
    "\n",
    "Variance  =  (Sum of (X-Xm)2)/(n-1)\n",
    "\t      =  677083.33/5\n",
    "\t\t  =  135416.7\n",
    "\n",
    "Step 3: Calculating the Standard Deviation\n",
    " \n",
    "Standard Deviation \t= Sqrt (Variance)\n",
    "\t\t\t= Sqrt (135416.7)\n",
    "\t\t\t= 367.99\n"
   ]
  },
  {
   "cell_type": "code",
   "execution_count": null,
   "metadata": {},
   "outputs": [],
   "source": [
    "# Question No 2\n",
    "# 2. Find the variance for the following set of data representing trees in California \n",
    "# (heights in feet):3, 21, 98, 203, 17, 9"
   ]
  },
  {
   "cell_type": "code",
   "execution_count": 5,
   "metadata": {},
   "outputs": [],
   "source": [
    "heights = [3,21,98,203,17,9]"
   ]
  },
  {
   "cell_type": "code",
   "execution_count": 8,
   "metadata": {},
   "outputs": [
    {
     "data": {
      "text/plain": [
       "58.5"
      ]
     },
     "execution_count": 8,
     "metadata": {},
     "output_type": "execute_result"
    }
   ],
   "source": [
    "np.mean(heights)"
   ]
  },
  {
   "cell_type": "raw",
   "metadata": {},
   "source": [
    "Step 1: Calculation Mean\n",
    "\n",
    "Mean(Xm) = (Sum of Values)/(no. of Values)\n",
    "\t\t= (3 + 21+ 98 + 203 + 17 + 9)/6\n",
    "\t\t= 351/6\n",
    "\t\t= 58.5\n",
    "Step 2: Calculating the Variance (S2)\n",
    "\t\t \n",
    "X(Height of Tree)\t      X-Xm(Value - Mean)\t     (X-Xm)2\n",
    "3\t                      -55.50\t                 3080.25\n",
    "21\t                      -37.50\t                 1406.25\n",
    "98\t                       39.50\t                 1560.25\n",
    "203\t                       144.50\t                 20880.25\n",
    "17\t                      -41.50\t                 1722.25\n",
    "9\t                      -49.50\t                 2450.25\n",
    "\n",
    "Sum of (X-Xm)2\t= 31099.50\n",
    "\n",
    "Variance  =  (Sum of (X-Xm)2)/(n-1)\n",
    "\t   = 31099.50/5\n",
    "       = 6219.9\n"
   ]
  },
  {
   "cell_type": "code",
   "execution_count": 17,
   "metadata": {},
   "outputs": [],
   "source": [
    "# Question No 3\n",
    "# 3. In a class on 100 students, 80 students passed in all subjects, 10 failed in one subject, 7 failed in \n",
    "# two subjects and 3 failed in three subjects. Find the probability distribution of the variable for number \n",
    "# of subjects a student from the given class has failed in."
   ]
  },
  {
   "cell_type": "raw",
   "metadata": {},
   "source": [
    "The probability of failing in 0 subjects, P(X=0) =80/100 =0.8\n",
    "The probability of failing in 1 subjects, P(X=1) =10/100 = 0.1\n",
    "The probability of failing in 2 subjects, P(X=2) =7/100 = 0.07\n",
    "The probability of failing in 3 subjects, P(X=3) = 3/100 = 0.03\n",
    "\n",
    "Then probability distribution:\n",
    "\n",
    " X\t     0\t       1\t     2\t      3\n",
    "P(X)\t0.8\t      0.1\t    0.07\t 0.03\n"
   ]
  },
  {
   "cell_type": "markdown",
   "metadata": {},
   "source": [
    "# Task 2"
   ]
  },
  {
   "cell_type": "code",
   "execution_count": 18,
   "metadata": {},
   "outputs": [],
   "source": [
    "# Question No 1\n",
    "# A test is conducted which is consisting of 20 MCQs (multiple choices questions) with every MCQ having \n",
    "# its four options out of which only one is correct. Determine the probability that a person undertaking that \n",
    "# test has answered exactly 5 questions wrong."
   ]
  },
  {
   "cell_type": "raw",
   "metadata": {},
   "source": [
    "Here, n = 20, n - k = 5, k = 20 - 5 = 15\n",
    "\n",
    "Here the probability of success = probability of giving a right answer = s = 1/4\n",
    "\n",
    "Hence, the probability of failure = probability of giving a wrong answer = 1 - s \n",
    "= 1 – 1/4 = 3/4\n",
    "\n",
    "When we substitute these values in the formula for Binomial distribution we get,\n",
    "\n",
    "So, P (exactly 5 out of 20 answers incorrect) = C (20, 5) * (1/4) ^ 15 * (3/4) ^ 5\n",
    "→ P (5 out of 20) = (20∗19∗18∗17∗16) / (5∗4∗3∗2∗1) * (1/4) ^ 15 * (3/4) ^ 5\n",
    "\n",
    "= 0.0000034 (approx)\n",
    "\n",
    "Thus the required probability is 0.0000034 approximately.\n"
   ]
  },
  {
   "cell_type": "code",
   "execution_count": 19,
   "metadata": {},
   "outputs": [],
   "source": [
    "# Question No 2\n",
    "# A die marked A to E is rolled 50 times. Find the probability of getting a “D” exactly 5 times."
   ]
  },
  {
   "cell_type": "raw",
   "metadata": {},
   "source": [
    "Here, n = 50, k = 5, n - k = 45.\n",
    "\n",
    "The probability of success = probability of getting a “D”= s = 1/5\n",
    "Hence, the probability of failure = probability of not getting a “D” = 1 - s = 4/5."
   ]
  },
  {
   "cell_type": "code",
   "execution_count": 20,
   "metadata": {},
   "outputs": [],
   "source": [
    "# Question No 3\n",
    "# Two balls are drawn at random in succession without replacement from an urn containing 4 red balls and \n",
    "# 6 black balls. Find the probabilities of all the possible outcomes."
   ]
  },
  {
   "cell_type": "raw",
   "metadata": {},
   "source": [
    "First determine the probabilities of the events.\n",
    "  Events           Probability\n",
    "    RR    =      (4/10) (3/9) = 2/15\n",
    "    RB    =      (4/10) (6/9) = 4/15\n",
    "    BR    =   (6/10) (4/9) = 4/15 \n",
    "    BB    =     (6/10) (5/9) = 1/3\n",
    "\n",
    "The probability of 0 blue balls (RR) is 2/15\n",
    "The probability of 1 blue ball is (RB or BR) is 4/15+4/15 = 8/15\n",
    "The probability of 2 blue balls (BB) is 1/3\n",
    "\n",
    "So the probability distribution is: \n",
    "    \n",
    "Z   p(Z)\n",
    "--------   \n",
    "0 =  2/15\n",
    "1 =  8/15\n",
    "2 =  1/3\n"
   ]
  }
 ],
 "metadata": {
  "kernelspec": {
   "display_name": "Python 3",
   "language": "python",
   "name": "python3"
  },
  "language_info": {
   "codemirror_mode": {
    "name": "ipython",
    "version": 3
   },
   "file_extension": ".py",
   "mimetype": "text/x-python",
   "name": "python",
   "nbconvert_exporter": "python",
   "pygments_lexer": "ipython3",
   "version": "3.6.4"
  }
 },
 "nbformat": 4,
 "nbformat_minor": 2
}
